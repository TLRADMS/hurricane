{
 "cells": [
  {
   "cell_type": "code",
   "execution_count": 3,
   "metadata": {},
   "outputs": [],
   "source": [
    "import psycopg2 as pg\n",
    "import pandas.io.sql as pd_sql\n",
    "import pandas as pd\n",
    "import io\n",
    "import requests\n",
    "from sqlalchemy import create_engine"
   ]
  },
  {
   "cell_type": "markdown",
   "metadata": {},
   "source": [
    "### Connect to AWS"
   ]
  },
  {
   "cell_type": "code",
   "execution_count": 10,
   "metadata": {},
   "outputs": [
    {
     "ename": "OperationalError",
     "evalue": "could not connect to server: Connection timed out (0x0000274C/10060)\n\tIs the server running on host \"13.52.182.91\" and accepting\n\tTCP/IP connections on port 5432?\n",
     "output_type": "error",
     "traceback": [
      "\u001b[1;31m---------------------------------------------------------------------------\u001b[0m",
      "\u001b[1;31mOperationalError\u001b[0m                          Traceback (most recent call last)",
      "\u001b[1;32m<ipython-input-10-dd440f75f48c>\u001b[0m in \u001b[0;36m<module>\u001b[1;34m\u001b[0m\n\u001b[0;32m     15\u001b[0m }\n\u001b[0;32m     16\u001b[0m \u001b[1;33m\u001b[0m\u001b[0m\n\u001b[1;32m---> 17\u001b[1;33m \u001b[0mconnection\u001b[0m \u001b[1;33m=\u001b[0m \u001b[0mpg\u001b[0m\u001b[1;33m.\u001b[0m\u001b[0mconnect\u001b[0m\u001b[1;33m(\u001b[0m\u001b[1;33m**\u001b[0m\u001b[0mconnection_args\u001b[0m\u001b[1;33m)\u001b[0m\u001b[1;33m\u001b[0m\u001b[1;33m\u001b[0m\u001b[0m\n\u001b[0m",
      "\u001b[1;32m~\\Miniconda3\\envs\\metis\\lib\\site-packages\\psycopg2\\__init__.py\u001b[0m in \u001b[0;36mconnect\u001b[1;34m(dsn, connection_factory, cursor_factory, **kwargs)\u001b[0m\n\u001b[0;32m    124\u001b[0m \u001b[1;33m\u001b[0m\u001b[0m\n\u001b[0;32m    125\u001b[0m     \u001b[0mdsn\u001b[0m \u001b[1;33m=\u001b[0m \u001b[0m_ext\u001b[0m\u001b[1;33m.\u001b[0m\u001b[0mmake_dsn\u001b[0m\u001b[1;33m(\u001b[0m\u001b[0mdsn\u001b[0m\u001b[1;33m,\u001b[0m \u001b[1;33m**\u001b[0m\u001b[0mkwargs\u001b[0m\u001b[1;33m)\u001b[0m\u001b[1;33m\u001b[0m\u001b[1;33m\u001b[0m\u001b[0m\n\u001b[1;32m--> 126\u001b[1;33m     \u001b[0mconn\u001b[0m \u001b[1;33m=\u001b[0m \u001b[0m_connect\u001b[0m\u001b[1;33m(\u001b[0m\u001b[0mdsn\u001b[0m\u001b[1;33m,\u001b[0m \u001b[0mconnection_factory\u001b[0m\u001b[1;33m=\u001b[0m\u001b[0mconnection_factory\u001b[0m\u001b[1;33m,\u001b[0m \u001b[1;33m**\u001b[0m\u001b[0mkwasync\u001b[0m\u001b[1;33m)\u001b[0m\u001b[1;33m\u001b[0m\u001b[1;33m\u001b[0m\u001b[0m\n\u001b[0m\u001b[0;32m    127\u001b[0m     \u001b[1;32mif\u001b[0m \u001b[0mcursor_factory\u001b[0m \u001b[1;32mis\u001b[0m \u001b[1;32mnot\u001b[0m \u001b[1;32mNone\u001b[0m\u001b[1;33m:\u001b[0m\u001b[1;33m\u001b[0m\u001b[1;33m\u001b[0m\u001b[0m\n\u001b[0;32m    128\u001b[0m         \u001b[0mconn\u001b[0m\u001b[1;33m.\u001b[0m\u001b[0mcursor_factory\u001b[0m \u001b[1;33m=\u001b[0m \u001b[0mcursor_factory\u001b[0m\u001b[1;33m\u001b[0m\u001b[1;33m\u001b[0m\u001b[0m\n",
      "\u001b[1;31mOperationalError\u001b[0m: could not connect to server: Connection timed out (0x0000274C/10060)\n\tIs the server running on host \"13.52.182.91\" and accepting\n\tTCP/IP connections on port 5432?\n"
     ]
    }
   ],
   "source": [
    "# https://github.com/thisismetis/sf20_ds17/blob/master/curriculum/project-03/_\n",
    "### aws-setup/02_HW_setup_aws_and_psycopg.md\n",
    "# to update AWS server to hear my IP\n",
    "# sudo su - postgres\n",
    "# nano /etc/postgresql/10/main/pg_hba.conf\n",
    "# Search for \"IPv4 local connections\"\n",
    "# type exti to stop being user postgres\n",
    "# restart psql: sudo service postgresql restart\n",
    "\n",
    "connection_args = {\n",
    "    'host': '13.52.182.91', #AWS's IP here\n",
    "    'user': 'ubuntu',\n",
    "    'dbname': 'hurricane',\n",
    "    'port': 5432\n",
    "}\n",
    "\n",
    "connection = pg.connect(**connection_args)"
   ]
  },
  {
   "cell_type": "markdown",
   "metadata": {},
   "source": [
    "### Get Data from NOAA\n",
    "National Oceanic and Atmospheric Administration"
   ]
  },
  {
   "cell_type": "code",
   "execution_count": 5,
   "metadata": {},
   "outputs": [],
   "source": [
    "url=\"https://www.nhc.noaa.gov/data/hurdat/hurdat2-1851-2018-120319.txt\"\n",
    "headers = ['Year_Month_Day', 'Hour_Minute', 'Status'\n",
    "           , 'Classification', 'Latitude', 'Longitude', 'Max_sustained_wind_knots', 'Minimum_pressure_millibars'\n",
    "           , '34ktNEMaxRadii_nautmiles', '34ktSEMaxRadii_nautmiles', '34ktSWMaxRadii_nautmiles', '34ktNWMaxRadii_nautmiles'\n",
    "           , '50ktNEMaxRadii_nautmiles', '50ktSEMaxRadii_nautmiles', '50ktSWMaxRadii_nautmiles', '50ktNWMaxRadii_nautmiles'\n",
    "           , '64ktNEMaxRadii_nautmiles', '64ktSEMaxRadii_nautmiles', '64ktSWMaxRadii_nautmiles', '64ktNWMaxRadii_nautmiles'\n",
    "          ]\n",
    "s=requests.get(url).content\n",
    "data=pd.read_csv(io.StringIO(s.decode('utf-8')), names=headers)"
   ]
  },
  {
   "cell_type": "markdown",
   "metadata": {},
   "source": [
    "### Upload NOAA to AWS Database\n",
    "#### This takes a few minutes to run"
   ]
  },
  {
   "cell_type": "code",
   "execution_count": 6,
   "metadata": {
    "scrolled": false
   },
   "outputs": [],
   "source": [
    "query= \"\"\"\n",
    "    CREATE TABLE hurricane (\n",
    "        Year_Month_Day varchar(200),\n",
    "        Hour_Minute varchar(200),\n",
    "        Status varchar(200),\n",
    "        Classification varchar(200),\n",
    "        Latitude varchar(200),\n",
    "        Longitude varchar(200),\n",
    "        Max_sustained_wind_knots float,\n",
    "        Minimum_pressure_millibars float,\n",
    "        thirtyfour_ktNEMaxRadii_nautmiles float,\n",
    "        thirtyfour_ktSEMaxRadii_nautmiles float,\n",
    "        thirtyfour_ktSWMaxRadii_nautmiles float,\n",
    "        thirtyfour_ktNWMaxRadii_nautmiles float,\n",
    "        fifty_ktNEMaxRadii_nautmiles float,\n",
    "        fifty_ktSEMaxRadii_nautmiles float,\n",
    "        fifty_ktSWMaxRadii_nautmiles float,\n",
    "        fifty_ktNWMaxRadii_nautmiles float,\n",
    "        sixtyfour_ktNEMaxRadii_nautmiles float,\n",
    "        sixtyfour_ktSEMaxRadii_nautmiles float,\n",
    "        sixtyfour_ktSWMaxRadii_nautmiles float,\n",
    "        sixtyfour_ktNWMaxRadii_nautmiles float\n",
    "    );\n",
    "\"\"\"\n",
    "\n",
    "engine = create_engine('postgresql://ubuntu@13.52.182.91:5432/hurricane')\n",
    "data.to_sql('hurricane', engine, if_exists='replace', index=False)"
   ]
  }
 ],
 "metadata": {
  "kernelspec": {
   "display_name": "Python [conda env:metis] *",
   "language": "python",
   "name": "conda-env-metis-py"
  },
  "language_info": {
   "codemirror_mode": {
    "name": "ipython",
    "version": 3
   },
   "file_extension": ".py",
   "mimetype": "text/x-python",
   "name": "python",
   "nbconvert_exporter": "python",
   "pygments_lexer": "ipython3",
   "version": "3.7.6"
  }
 },
 "nbformat": 4,
 "nbformat_minor": 4
}
